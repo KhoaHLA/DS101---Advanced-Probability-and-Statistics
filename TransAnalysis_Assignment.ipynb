{
  "nbformat": 4,
  "nbformat_minor": 0,
  "metadata": {
    "colab": {
      "private_outputs": true,
      "provenance": [],
      "toc_visible": true,
      "gpuType": "T4",
      "authorship_tag": "ABX9TyP11lhUkO4vZDWFwHJzJ6TM",
      "include_colab_link": true
    },
    "kernelspec": {
      "name": "python3",
      "display_name": "Python 3"
    },
    "language_info": {
      "name": "python"
    }
  },
  "cells": [
    {
      "cell_type": "markdown",
      "metadata": {
        "id": "view-in-github",
        "colab_type": "text"
      },
      "source": [
        "<a href=\"https://colab.research.google.com/github/KhoaHLA/DS101---Advanced-Probability-and-Statistics/blob/main/TransAnalysis_Assignment.ipynb\" target=\"_parent\"><img src=\"https://colab.research.google.com/assets/colab-badge.svg\" alt=\"Open In Colab\"/></a>"
      ]
    },
    {
      "cell_type": "markdown",
      "source": [
        "Bài tập cá nhân \\\n",
        "\n",
        "**Họ tên**: Hoàng Lê Anh Khoa \\\n",
        "**MSSV**: 22520667"
      ],
      "metadata": {
        "id": "GoFWvilYNTpx"
      }
    },
    {
      "cell_type": "code",
      "source": [
        "# Install findspark: Adds Pyspark to sys.path at runtime\n",
        "!pip install -q findspark\n",
        "\n",
        "# Install pyspark\n",
        "!pip install pyspark"
      ],
      "metadata": {
        "id": "7KmfZyACIimn"
      },
      "execution_count": null,
      "outputs": []
    },
    {
      "cell_type": "code",
      "execution_count": null,
      "metadata": {
        "id": "jB_3yc7rIX1y"
      },
      "outputs": [],
      "source": [
        "import findspark\n",
        "findspark.init()"
      ]
    },
    {
      "cell_type": "code",
      "source": [
        "from google.colab import drive\n",
        "drive.mount('/content/drive')"
      ],
      "metadata": {
        "id": "_U5omIQsI0kB"
      },
      "execution_count": null,
      "outputs": []
    },
    {
      "cell_type": "code",
      "source": [
        "from pyspark.sql import SparkSession\n",
        "spark  = SparkSession.builder.appName('TransAnalysis').getOrCreate()"
      ],
      "metadata": {
        "id": "ptyHULW-IeRI"
      },
      "execution_count": null,
      "outputs": []
    },
    {
      "cell_type": "markdown",
      "source": [
        "# TransAnalysis 1"
      ],
      "metadata": {
        "id": "GwbJFaetOT9b"
      }
    },
    {
      "cell_type": "code",
      "source": [
        "transRDD = spark.sparkContext.textFile('/content/drive/MyDrive/Big Data/TransAnalysis/trans.txt').map(lambda x: x.split(','))\n",
        "transRDD.collect()"
      ],
      "metadata": {
        "id": "uR7LMlc-JCl1"
      },
      "execution_count": null,
      "outputs": []
    },
    {
      "cell_type": "code",
      "source": [
        "custRDD = spark.sparkContext.textFile('/content/drive/MyDrive/Big Data/TransAnalysis/cust.txt').map(lambda x: x.split(','))\n",
        "custRDD.collect()"
      ],
      "metadata": {
        "id": "k03EgVqkUUdj"
      },
      "execution_count": null,
      "outputs": []
    },
    {
      "cell_type": "code",
      "source": [
        "TransAnalyis1 =transRDD.map(lambda cols: (cols[4].strip(), float(cols[3])))\\\n",
        "                            .reduceByKey(lambda x,y: x+y)\\\n",
        "                            .sortBy(lambda x: x[0])\n",
        "TransAnalyis1.collect()"
      ],
      "metadata": {
        "id": "isiJVXUAJcKT"
      },
      "execution_count": null,
      "outputs": []
    },
    {
      "cell_type": "markdown",
      "source": [
        "# TransAnalysis2:"
      ],
      "metadata": {
        "id": "Yzu-KmTtO7i3"
      }
    },
    {
      "cell_type": "code",
      "source": [
        "TransAnalysis2 = transRDD.map(lambda cols: (cols[4].strip(), ([cols[2]], float(cols[3])))) \\\n",
        "    .reduceByKey(lambda x, y: (x[0] + y[0], x[1] + y[1])) \\\n",
        "    .sortBy(lambda x: x[0])\n",
        "\n",
        "TransAnalysis2.collect()"
      ],
      "metadata": {
        "id": "Xaagz5M-QuAw"
      },
      "execution_count": null,
      "outputs": []
    },
    {
      "cell_type": "markdown",
      "source": [
        "# TransAnalysis 3:"
      ],
      "metadata": {
        "id": "y2W4dgNlQ5xU"
      }
    },
    {
      "cell_type": "code",
      "source": [
        "TransAnalysis3 = transRDD \\\n",
        "    .map(lambda cols: (cols[4].strip(), (set([cols[2]]), float(cols[3])))) \\\n",
        "    .reduceByKey(lambda x, y: (x[0].union(y[0]), x[1] + y[1])).sortBy(lambda x: x[0])\n",
        "TransAnalysis3.collect()"
      ],
      "metadata": {
        "id": "f-qh2wAIKVs1"
      },
      "execution_count": null,
      "outputs": []
    },
    {
      "cell_type": "markdown",
      "source": [
        "# TransAnalysis 4"
      ],
      "metadata": {
        "id": "-aZCZeseTRya"
      }
    },
    {
      "cell_type": "code",
      "source": [
        "mapRDD = transRDD.map(lambda cols: (cols[4].strip(), (cols[2], float(cols[3]))))\n",
        "groupRDD = mapRDD.groupByKey()\n",
        "TransAnalysis4 = groupRDD.mapValues(lambda x: (len(set([i[0] for i in x])), sum([i[1] for i in x]))).sortBy(lambda x: x[0])\n",
        "TransAnalysis4.collect()"
      ],
      "metadata": {
        "id": "MX3Uj51BTFng"
      },
      "execution_count": null,
      "outputs": []
    },
    {
      "cell_type": "markdown",
      "source": [
        "# TransAnalysis 5"
      ],
      "metadata": {
        "id": "RMixpSENZIjD"
      }
    },
    {
      "cell_type": "code",
      "source": [
        "cust_map = custRDD.map(lambda cols: (cols[0], cols[1]))\n",
        "trans_map = transRDD.map(lambda cols : (cols[2], (cols[4], float(cols[3]))))"
      ],
      "metadata": {
        "id": "1jM0ogX3ZYxb"
      },
      "execution_count": null,
      "outputs": []
    },
    {
      "cell_type": "code",
      "source": [
        "combine_map = trans_map.join(cust_map).map(lambda cols: (cols[1][0][0], (([cols[1][1]]), cols[1][0][1])))\n",
        "TransAnalysis5 = combine_map.reduceByKey(\n",
        "    lambda a, b: (\n",
        "        list(set(a[0] + b[0])),  # Gộp và loại bỏ trùng lặp các tên người chơi\n",
        "        a[1] + b[1]              # Cộng tổng amount\n",
        "    )\n",
        ").sortBy(lambda x: x[0])\n",
        "TransAnalysis5.collect()"
      ],
      "metadata": {
        "id": "b6OO9dJzb38Z"
      },
      "execution_count": null,
      "outputs": []
    },
    {
      "cell_type": "markdown",
      "source": [
        "# TransAnalysis 6"
      ],
      "metadata": {
        "id": "tWPRuBZTLGxa"
      }
    },
    {
      "cell_type": "code",
      "source": [
        "trans_map = transRDD.map(lambda cols : (cols[2], (cols[4], float(cols[3]))))\n",
        "cust_map = custRDD.map(lambda cols: (cols[0], (cols[1], str(cols[3]))))"
      ],
      "metadata": {
        "id": "c2igwwGpKy6t"
      },
      "execution_count": null,
      "outputs": []
    },
    {
      "cell_type": "code",
      "source": [
        "combine_map = trans_map.join(cust_map).map(lambda cols: (cols[1][0][0], ([cols[1][1][0], cols[1][1][1]], cols[1][0][1])))\n",
        "combine_map.collect()"
      ],
      "metadata": {
        "id": "2OlXI09vLgMy"
      },
      "execution_count": null,
      "outputs": []
    },
    {
      "cell_type": "code",
      "source": [
        "def reduce(x,y):\n",
        "    seen = {i[0] for i in x[0]}  # lưu các name đã có\n",
        "    distinct_player = x[0] + [i for i in y[0] if i[0] not in seen]\n",
        "    total_amount = x[1] + y[1]\n",
        "    return distinct_player, total_amount"
      ],
      "metadata": {
        "id": "MRmb5RShMMlj"
      },
      "execution_count": null,
      "outputs": []
    },
    {
      "cell_type": "code",
      "source": [
        "TransAnalysis6 = combine_map.reduceByKey(reduce).sortBy(lambda x: x[0])\n",
        "TransAnalysis6.collect()"
      ],
      "metadata": {
        "id": "zTEkz7dYPDWw"
      },
      "execution_count": null,
      "outputs": []
    }
  ]
}